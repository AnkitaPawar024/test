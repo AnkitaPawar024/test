{
 "cells": [
  {
   "cell_type": "code",
   "execution_count": 6,
   "id": "8d3de07f",
   "metadata": {},
   "outputs": [],
   "source": [
    "from collections import deque"
   ]
  },
  {
   "cell_type": "code",
   "execution_count": 60,
   "id": "f26a5d8c",
   "metadata": {},
   "outputs": [],
   "source": [
    "class Stack:\n",
    "    def __init__(self):\n",
    "        self.container = deque()\n",
    "    \n",
    "    def push(self,val):\n",
    "        self.container.append(val)\n",
    "        \n",
    "        \n",
    "    def pop(self):\n",
    "        return self.container.pop()\n",
    "    \n",
    "    def peek(self):\n",
    "        return self.container[-1]\n",
    "    \n",
    "    def isempty(self):\n",
    "        return len(self.container) ==0\n",
    "    \n",
    "    def size(self):\n",
    "        return len(self.container)\n",
    "    \n",
    "def reverse_string(str):\n",
    "        s = Stack()\n",
    "        #str_arr =str.split()\n",
    "        #for element in str_arr:\n",
    "         #   s.push(element)\n",
    "        \n",
    "        for ch in str:\n",
    "            s.push(ch)\n",
    "        \n",
    "        rstr = ''\n",
    "        \n",
    "        while s.size()!=0:\n",
    "            rstr += s.pop()\n",
    "            \n",
    "        return rstr\n",
    "    \n",
    "def is_matched(ch1,ch2):\n",
    "    match_dict = { ')' :'(',']':'[','}':'{'}\n",
    "    return match_dict[ch1]==ch2\n",
    "\n",
    "def is_balanced(s):\n",
    "    stack1 = Stack()\n",
    "    \n",
    "    for ch in s:\n",
    "        if ch =='(' or ch=='{' or ch=='[':\n",
    "            stack1.push(ch)\n",
    "            \n",
    "        if ch ==')' or ch=='}' or ch==']':\n",
    "            if stack1.size()==0:\n",
    "                return False\n",
    "            if not is_matched(ch,stack1.pop()):\n",
    "                return False\n",
    "    \n",
    "    return stack1.size()==0"
   ]
  },
  {
   "cell_type": "code",
   "execution_count": 61,
   "id": "18a11670",
   "metadata": {},
   "outputs": [
    {
     "data": {
      "text/plain": [
       "True"
      ]
     },
     "execution_count": 61,
     "metadata": {},
     "output_type": "execute_result"
    }
   ],
   "source": [
    "is_balanced(\"({a+b})\") "
   ]
  },
  {
   "cell_type": "code",
   "execution_count": 62,
   "id": "eb619969",
   "metadata": {},
   "outputs": [
    {
     "data": {
      "text/plain": [
       "False"
      ]
     },
     "execution_count": 62,
     "metadata": {},
     "output_type": "execute_result"
    }
   ],
   "source": [
    "is_balanced(\"))((a+b}{\") "
   ]
  },
  {
   "cell_type": "code",
   "execution_count": 63,
   "id": "26ca22e2",
   "metadata": {},
   "outputs": [
    {
     "data": {
      "text/plain": [
       "True"
      ]
     },
     "execution_count": 63,
     "metadata": {},
     "output_type": "execute_result"
    }
   ],
   "source": [
    "is_balanced(\"((a+b))\") "
   ]
  },
  {
   "cell_type": "code",
   "execution_count": 64,
   "id": "991cd205",
   "metadata": {},
   "outputs": [
    {
     "data": {
      "text/plain": [
       "False"
      ]
     },
     "execution_count": 64,
     "metadata": {},
     "output_type": "execute_result"
    }
   ],
   "source": [
    "is_balanced(\"))\") "
   ]
  },
  {
   "cell_type": "code",
   "execution_count": 65,
   "id": "9e5aad86",
   "metadata": {},
   "outputs": [
    {
     "data": {
      "text/plain": [
       "True"
      ]
     },
     "execution_count": 65,
     "metadata": {},
     "output_type": "execute_result"
    }
   ],
   "source": [
    "is_balanced(\"[a+b]*(x+2y)*{gg+kk}\")"
   ]
  },
  {
   "cell_type": "code",
   "execution_count": null,
   "id": "1bdf032f",
   "metadata": {},
   "outputs": [],
   "source": []
  },
  {
   "cell_type": "code",
   "execution_count": null,
   "id": "61b887f1",
   "metadata": {},
   "outputs": [],
   "source": []
  },
  {
   "cell_type": "code",
   "execution_count": null,
   "id": "2b584154",
   "metadata": {},
   "outputs": [],
   "source": []
  },
  {
   "cell_type": "code",
   "execution_count": null,
   "id": "f71ab598",
   "metadata": {},
   "outputs": [],
   "source": []
  },
  {
   "cell_type": "code",
   "execution_count": null,
   "id": "443ec14f",
   "metadata": {},
   "outputs": [],
   "source": []
  },
  {
   "cell_type": "code",
   "execution_count": 2,
   "id": "1ddc5b8f",
   "metadata": {},
   "outputs": [],
   "source": [
    "import math"
   ]
  },
  {
   "cell_type": "code",
   "execution_count": 3,
   "id": "f8f3db9c",
   "metadata": {},
   "outputs": [
    {
     "data": {
      "text/plain": [
       "5.0"
      ]
     },
     "execution_count": 3,
     "metadata": {},
     "output_type": "execute_result"
    }
   ],
   "source": [
    "math.sqrt(25)"
   ]
  },
  {
   "cell_type": "markdown",
   "id": "bb6a9e14",
   "metadata": {},
   "source": []
  },
  {
   "cell_type": "code",
   "execution_count": 9,
   "id": "99e8a031",
   "metadata": {},
   "outputs": [],
   "source": [
    "from math import sqrt,cos"
   ]
  },
  {
   "cell_type": "code",
   "execution_count": 11,
   "id": "68eda00c",
   "metadata": {},
   "outputs": [
    {
     "data": {
      "text/plain": [
       "0.5403023058681398"
      ]
     },
     "execution_count": 11,
     "metadata": {},
     "output_type": "execute_result"
    }
   ],
   "source": [
    "a = sqrt(1)\n",
    "cos(a)"
   ]
  },
  {
   "cell_type": "code",
   "execution_count": 7,
   "id": "c3ea42e4",
   "metadata": {},
   "outputs": [],
   "source": [
    "content = dir(math)"
   ]
  },
  {
   "cell_type": "code",
   "execution_count": 8,
   "id": "b1facefd",
   "metadata": {},
   "outputs": [
    {
     "data": {
      "text/plain": [
       "['__doc__',\n",
       " '__loader__',\n",
       " '__name__',\n",
       " '__package__',\n",
       " '__spec__',\n",
       " 'acos',\n",
       " 'acosh',\n",
       " 'asin',\n",
       " 'asinh',\n",
       " 'atan',\n",
       " 'atan2',\n",
       " 'atanh',\n",
       " 'ceil',\n",
       " 'comb',\n",
       " 'copysign',\n",
       " 'cos',\n",
       " 'cosh',\n",
       " 'degrees',\n",
       " 'dist',\n",
       " 'e',\n",
       " 'erf',\n",
       " 'erfc',\n",
       " 'exp',\n",
       " 'expm1',\n",
       " 'fabs',\n",
       " 'factorial',\n",
       " 'floor',\n",
       " 'fmod',\n",
       " 'frexp',\n",
       " 'fsum',\n",
       " 'gamma',\n",
       " 'gcd',\n",
       " 'hypot',\n",
       " 'inf',\n",
       " 'isclose',\n",
       " 'isfinite',\n",
       " 'isinf',\n",
       " 'isnan',\n",
       " 'isqrt',\n",
       " 'ldexp',\n",
       " 'lgamma',\n",
       " 'log',\n",
       " 'log10',\n",
       " 'log1p',\n",
       " 'log2',\n",
       " 'modf',\n",
       " 'nan',\n",
       " 'perm',\n",
       " 'pi',\n",
       " 'pow',\n",
       " 'prod',\n",
       " 'radians',\n",
       " 'remainder',\n",
       " 'sin',\n",
       " 'sinh',\n",
       " 'sqrt',\n",
       " 'tan',\n",
       " 'tanh',\n",
       " 'tau',\n",
       " 'trunc']"
      ]
     },
     "execution_count": 8,
     "metadata": {},
     "output_type": "execute_result"
    }
   ],
   "source": [
    "content"
   ]
  },
  {
   "cell_type": "code",
   "execution_count": 14,
   "id": "fbe43478",
   "metadata": {},
   "outputs": [
    {
     "data": {
      "text/plain": [
       "2"
      ]
     },
     "execution_count": 14,
     "metadata": {},
     "output_type": "execute_result"
    }
   ],
   "source": [
    "10//4"
   ]
  },
  {
   "cell_type": "code",
   "execution_count": 16,
   "id": "719849dc",
   "metadata": {},
   "outputs": [
    {
     "data": {
      "text/plain": [
       "True"
      ]
     },
     "execution_count": 16,
     "metadata": {},
     "output_type": "execute_result"
    }
   ],
   "source": [
    "5 > 3 or 6 < 3"
   ]
  },
  {
   "cell_type": "code",
   "execution_count": 21,
   "id": "bc4083ba",
   "metadata": {},
   "outputs": [
    {
     "data": {
      "text/plain": [
       "bool"
      ]
     },
     "execution_count": 21,
     "metadata": {},
     "output_type": "execute_result"
    }
   ],
   "source": [
    "type(True)"
   ]
  },
  {
   "cell_type": "code",
   "execution_count": 22,
   "id": "9cbd0f84",
   "metadata": {},
   "outputs": [
    {
     "data": {
      "text/plain": [
       "False"
      ]
     },
     "execution_count": 22,
     "metadata": {},
     "output_type": "execute_result"
    }
   ],
   "source": [
    "isinstance(2,float)"
   ]
  },
  {
   "cell_type": "code",
   "execution_count": 34,
   "id": "7865d093",
   "metadata": {},
   "outputs": [
    {
     "data": {
      "text/plain": [
       "True"
      ]
     },
     "execution_count": 34,
     "metadata": {},
     "output_type": "execute_result"
    }
   ],
   "source": [
    "bool([1 ])"
   ]
  },
  {
   "cell_type": "code",
   "execution_count": 35,
   "id": "9da21b80",
   "metadata": {},
   "outputs": [],
   "source": [
    "weekdays = ['mon','tues','wed','thurs','fri']"
   ]
  },
  {
   "cell_type": "code",
   "execution_count": 46,
   "id": "f8ce0396",
   "metadata": {},
   "outputs": [
    {
     "data": {
      "text/plain": [
       "['fri', 'thurs', 'wed', 'tues', 'mon']"
      ]
     },
     "execution_count": 46,
     "metadata": {},
     "output_type": "execute_result"
    }
   ],
   "source": [
    "weekdays[::-1]"
   ]
  },
  {
   "cell_type": "code",
   "execution_count": 45,
   "id": "e7be124e",
   "metadata": {},
   "outputs": [
    {
     "data": {
      "text/plain": [
       "['fri', 'thurs', 'wed', 'tues', 'mon']"
      ]
     },
     "execution_count": 45,
     "metadata": {},
     "output_type": "execute_result"
    }
   ],
   "source": [
    "list(reversed(weekdays))"
   ]
  },
  {
   "cell_type": "code",
   "execution_count": 47,
   "id": "1b7322f8",
   "metadata": {},
   "outputs": [
    {
     "data": {
      "text/plain": [
       "2"
      ]
     },
     "execution_count": 47,
     "metadata": {},
     "output_type": "execute_result"
    }
   ],
   "source": [
    "weekdays.index('wed')"
   ]
  },
  {
   "cell_type": "code",
   "execution_count": 48,
   "id": "7eca21e0",
   "metadata": {},
   "outputs": [],
   "source": [
    "weekdays.sort()"
   ]
  },
  {
   "cell_type": "code",
   "execution_count": 49,
   "id": "4f884b5f",
   "metadata": {},
   "outputs": [
    {
     "data": {
      "text/plain": [
       "['fri', 'mon', 'thurs', 'tues', 'wed']"
      ]
     },
     "execution_count": 49,
     "metadata": {},
     "output_type": "execute_result"
    }
   ],
   "source": [
    "weekdays"
   ]
  },
  {
   "cell_type": "code",
   "execution_count": 51,
   "id": "fb835ba0",
   "metadata": {},
   "outputs": [],
   "source": [
    "weekdays.sort(reverse=True) "
   ]
  },
  {
   "cell_type": "code",
   "execution_count": 52,
   "id": "dc21ca71",
   "metadata": {},
   "outputs": [
    {
     "data": {
      "text/plain": [
       "['wed', 'tues', 'thurs', 'mon', 'fri']"
      ]
     },
     "execution_count": 52,
     "metadata": {},
     "output_type": "execute_result"
    }
   ],
   "source": [
    "weekdays"
   ]
  },
  {
   "cell_type": "code",
   "execution_count": 54,
   "id": "cb1e20c7",
   "metadata": {},
   "outputs": [],
   "source": [
    "weekdays.sort(key=len)"
   ]
  },
  {
   "cell_type": "code",
   "execution_count": 55,
   "id": "6eec689e",
   "metadata": {},
   "outputs": [
    {
     "data": {
      "text/plain": [
       "['wed', 'mon', 'fri', 'tues', 'thurs']"
      ]
     },
     "execution_count": 55,
     "metadata": {},
     "output_type": "execute_result"
    }
   ],
   "source": [
    "weekdays"
   ]
  },
  {
   "cell_type": "code",
   "execution_count": 56,
   "id": "f9b0fb65",
   "metadata": {},
   "outputs": [
    {
     "data": {
      "text/plain": [
       "['fri', 'mon', 'thurs', 'tues', 'wed']"
      ]
     },
     "execution_count": 56,
     "metadata": {},
     "output_type": "execute_result"
    }
   ],
   "source": [
    "sorted(weekdays) ##does not modify original list"
   ]
  },
  {
   "cell_type": "code",
   "execution_count": 57,
   "id": "f458289a",
   "metadata": {},
   "outputs": [
    {
     "data": {
      "text/plain": [
       "['wed', 'mon', 'fri', 'tues', 'thurs']"
      ]
     },
     "execution_count": 57,
     "metadata": {},
     "output_type": "execute_result"
    }
   ],
   "source": [
    "weekdays"
   ]
  },
  {
   "cell_type": "code",
   "execution_count": 61,
   "id": "9fae92c9",
   "metadata": {},
   "outputs": [
    {
     "data": {
      "text/plain": [
       "['wed', 'mon', 'fri', 'tues', 'thurs']"
      ]
     },
     "execution_count": 61,
     "metadata": {},
     "output_type": "execute_result"
    }
   ],
   "source": [
    "sorted(weekdays,key=len)"
   ]
  },
  {
   "cell_type": "code",
   "execution_count": 63,
   "id": "c7eef3bd",
   "metadata": {},
   "outputs": [],
   "source": [
    "clas = [1, 2, 3, 4, 5]\n",
    "sa_clas = clas #alias modifies both"
   ]
  },
  {
   "cell_type": "code",
   "execution_count": 64,
   "id": "2412b2eb",
   "metadata": {},
   "outputs": [],
   "source": [
    "sa_clas[0] =25"
   ]
  },
  {
   "cell_type": "code",
   "execution_count": 65,
   "id": "e3b433c8",
   "metadata": {},
   "outputs": [
    {
     "data": {
      "text/plain": [
       "[25, 2, 3, 4, 5]"
      ]
     },
     "execution_count": 65,
     "metadata": {},
     "output_type": "execute_result"
    }
   ],
   "source": [
    "sa_clas"
   ]
  },
  {
   "cell_type": "code",
   "execution_count": 66,
   "id": "6470bd58",
   "metadata": {},
   "outputs": [
    {
     "data": {
      "text/plain": [
       "[25, 2, 3, 4, 5]"
      ]
     },
     "execution_count": 66,
     "metadata": {},
     "output_type": "execute_result"
    }
   ],
   "source": [
    "clas"
   ]
  },
  {
   "cell_type": "code",
   "execution_count": 68,
   "id": "d0bfaec2",
   "metadata": {},
   "outputs": [],
   "source": [
    "new=clas.copy() # does not modify original list"
   ]
  },
  {
   "cell_type": "code",
   "execution_count": 70,
   "id": "886d52e5",
   "metadata": {},
   "outputs": [],
   "source": [
    "new[1]=30"
   ]
  },
  {
   "cell_type": "code",
   "execution_count": 81,
   "id": "b0dbc85e",
   "metadata": {},
   "outputs": [
    {
     "data": {
      "text/plain": [
       "[25, 30, 3, 4, 5]"
      ]
     },
     "execution_count": 81,
     "metadata": {},
     "output_type": "execute_result"
    }
   ],
   "source": [
    "new"
   ]
  },
  {
   "cell_type": "code",
   "execution_count": 82,
   "id": "921a4412",
   "metadata": {},
   "outputs": [
    {
     "data": {
      "text/plain": [
       "[25, 2, 3, 4, 5]"
      ]
     },
     "execution_count": 82,
     "metadata": {},
     "output_type": "execute_result"
    }
   ],
   "source": [
    "sa_clas"
   ]
  },
  {
   "cell_type": "code",
   "execution_count": 83,
   "id": "91754ace",
   "metadata": {},
   "outputs": [
    {
     "data": {
      "text/plain": [
       "[25, 2, 3, 4, 5]"
      ]
     },
     "execution_count": 83,
     "metadata": {},
     "output_type": "execute_result"
    }
   ],
   "source": [
    "clas"
   ]
  },
  {
   "cell_type": "code",
   "execution_count": 84,
   "id": "af634e88",
   "metadata": {},
   "outputs": [],
   "source": [
    "n = clas[:]"
   ]
  },
  {
   "cell_type": "code",
   "execution_count": 85,
   "id": "9a15d32b",
   "metadata": {},
   "outputs": [
    {
     "data": {
      "text/plain": [
       "[25, 2, 3, 4, 5]"
      ]
     },
     "execution_count": 85,
     "metadata": {},
     "output_type": "execute_result"
    }
   ],
   "source": [
    "n"
   ]
  },
  {
   "cell_type": "code",
   "execution_count": 86,
   "id": "8fc1f325",
   "metadata": {},
   "outputs": [
    {
     "data": {
      "text/plain": [
       "True"
      ]
     },
     "execution_count": 86,
     "metadata": {},
     "output_type": "execute_result"
    }
   ],
   "source": [
    "sa_clas is clas    "
   ]
  },
  {
   "cell_type": "code",
   "execution_count": 87,
   "id": "2b2aed72",
   "metadata": {},
   "outputs": [
    {
     "data": {
      "text/plain": [
       "False"
      ]
     },
     "execution_count": 87,
     "metadata": {},
     "output_type": "execute_result"
    }
   ],
   "source": [
    "n is clas"
   ]
  },
  {
   "cell_type": "code",
   "execution_count": 88,
   "id": "3f13013b",
   "metadata": {},
   "outputs": [
    {
     "data": {
      "text/plain": [
       "[1, 2, 3, 4, 5, 6]"
      ]
     },
     "execution_count": 88,
     "metadata": {},
     "output_type": "execute_result"
    }
   ],
   "source": [
    "[1,2,3] + [4,5,6]"
   ]
  },
  {
   "cell_type": "code",
   "execution_count": 90,
   "id": "498dd532",
   "metadata": {},
   "outputs": [
    {
     "data": {
      "text/plain": [
       "['a', 'a', 'b', 'b', 'b']"
      ]
     },
     "execution_count": 90,
     "metadata": {},
     "output_type": "execute_result"
    }
   ],
   "source": [
    "['a'] * 2 + ['b'] * 3"
   ]
  },
  {
   "cell_type": "code",
   "execution_count": 98,
   "id": "b7a1e034",
   "metadata": {},
   "outputs": [],
   "source": [
    "tp = tuple(weekdays) + (1,1,1,2,2,2,1,4,5,1,5,6,3) ##tuples contain multiple data types and its content cannot be modified , immutable"
   ]
  },
  {
   "cell_type": "code",
   "execution_count": 99,
   "id": "20169205",
   "metadata": {},
   "outputs": [
    {
     "data": {
      "text/plain": [
       "('wed', 'mon', 'fri', 'tues', 'thurs', 1, 1, 1, 2, 2, 2, 1, 4, 5, 1, 5, 6, 3)"
      ]
     },
     "execution_count": 99,
     "metadata": {},
     "output_type": "execute_result"
    }
   ],
   "source": [
    "tp"
   ]
  },
  {
   "cell_type": "code",
   "execution_count": 100,
   "id": "f8857d93",
   "metadata": {},
   "outputs": [
    {
     "data": {
      "text/plain": [
       "'tues'"
      ]
     },
     "execution_count": 100,
     "metadata": {},
     "output_type": "execute_result"
    }
   ],
   "source": [
    "tp[3]"
   ]
  },
  {
   "cell_type": "code",
   "execution_count": 105,
   "id": "3405b512",
   "metadata": {},
   "outputs": [
    {
     "data": {
      "text/plain": [
       "3"
      ]
     },
     "execution_count": 105,
     "metadata": {},
     "output_type": "execute_result"
    }
   ],
   "source": [
    "tp.count(2)"
   ]
  },
  {
   "cell_type": "code",
   "execution_count": 106,
   "id": "95268545",
   "metadata": {},
   "outputs": [
    {
     "data": {
      "text/plain": [
       "8"
      ]
     },
     "execution_count": 106,
     "metadata": {},
     "output_type": "execute_result"
    }
   ],
   "source": [
    "tp.index(2)"
   ]
  },
  {
   "cell_type": "code",
   "execution_count": 107,
   "id": "ea22a1b0",
   "metadata": {},
   "outputs": [
    {
     "ename": "TypeError",
     "evalue": "'tuple' object does not support item assignment",
     "output_type": "error",
     "traceback": [
      "\u001b[1;31m---------------------------------------------------------------------------\u001b[0m",
      "\u001b[1;31mTypeError\u001b[0m                                 Traceback (most recent call last)",
      "\u001b[1;32m<ipython-input-107-b3f942dd5e9f>\u001b[0m in \u001b[0;36m<module>\u001b[1;34m\u001b[0m\n\u001b[1;32m----> 1\u001b[1;33m \u001b[0mtp\u001b[0m\u001b[1;33m[\u001b[0m\u001b[1;36m2\u001b[0m\u001b[1;33m]\u001b[0m\u001b[1;33m=\u001b[0m\u001b[1;36m0\u001b[0m\u001b[1;33m\u001b[0m\u001b[1;33m\u001b[0m\u001b[0m\n\u001b[0m",
      "\u001b[1;31mTypeError\u001b[0m: 'tuple' object does not support item assignment"
     ]
    }
   ],
   "source": [
    "tp[2]=0"
   ]
  },
  {
   "cell_type": "code",
   "execution_count": 108,
   "id": "e6bcfca5",
   "metadata": {},
   "outputs": [
    {
     "data": {
      "text/plain": [
       "(3, 4, 3, 4, 3, 4, 3, 4, 3, 4, 3, 4, 3, 4, 3, 4, 3, 4, 3, 4, 3, 4, 3, 4)"
      ]
     },
     "execution_count": 108,
     "metadata": {},
     "output_type": "execute_result"
    }
   ],
   "source": [
    "(3,4) *12"
   ]
  },
  {
   "cell_type": "code",
   "execution_count": 111,
   "id": "64cf3c2d",
   "metadata": {},
   "outputs": [],
   "source": [
    "s =str(42)"
   ]
  },
  {
   "cell_type": "code",
   "execution_count": 112,
   "id": "e7a6a391",
   "metadata": {},
   "outputs": [
    {
     "data": {
      "text/plain": [
       "'42'"
      ]
     },
     "execution_count": 112,
     "metadata": {},
     "output_type": "execute_result"
    }
   ],
   "source": [
    "s"
   ]
  },
  {
   "cell_type": "code",
   "execution_count": 113,
   "id": "605eab35",
   "metadata": {},
   "outputs": [],
   "source": [
    "s = 'I am Gotham'"
   ]
  },
  {
   "cell_type": "code",
   "execution_count": 114,
   "id": "77b49edc",
   "metadata": {},
   "outputs": [
    {
     "data": {
      "text/plain": [
       "'I am Gotham'"
      ]
     },
     "execution_count": 114,
     "metadata": {},
     "output_type": "execute_result"
    }
   ],
   "source": [
    "s # strings are immutable"
   ]
  },
  {
   "cell_type": "code",
   "execution_count": 115,
   "id": "be248237",
   "metadata": {},
   "outputs": [
    {
     "data": {
      "text/plain": [
       "' '"
      ]
     },
     "execution_count": 115,
     "metadata": {},
     "output_type": "execute_result"
    }
   ],
   "source": [
    "s[1]"
   ]
  },
  {
   "cell_type": "code",
   "execution_count": 116,
   "id": "685f4817",
   "metadata": {},
   "outputs": [
    {
     "data": {
      "text/plain": [
       "11"
      ]
     },
     "execution_count": 116,
     "metadata": {},
     "output_type": "execute_result"
    }
   ],
   "source": [
    "len(s)"
   ]
  },
  {
   "cell_type": "code",
   "execution_count": 119,
   "id": "723c7334",
   "metadata": {},
   "outputs": [
    {
     "data": {
      "text/plain": [
       "'I am gotham'"
      ]
     },
     "execution_count": 119,
     "metadata": {},
     "output_type": "execute_result"
    }
   ],
   "source": [
    "s.capitalize()"
   ]
  },
  {
   "cell_type": "code",
   "execution_count": 120,
   "id": "1fd13410",
   "metadata": {},
   "outputs": [
    {
     "data": {
      "text/plain": [
       "'I am G'"
      ]
     },
     "execution_count": 120,
     "metadata": {},
     "output_type": "execute_result"
    }
   ],
   "source": [
    "s[:6]"
   ]
  },
  {
   "cell_type": "code",
   "execution_count": 122,
   "id": "e56a3310",
   "metadata": {},
   "outputs": [
    {
     "data": {
      "text/plain": [
       "'Ia ohm'"
      ]
     },
     "execution_count": 122,
     "metadata": {},
     "output_type": "execute_result"
    }
   ],
   "source": [
    "s[::2]"
   ]
  },
  {
   "cell_type": "code",
   "execution_count": 123,
   "id": "1d83dcda",
   "metadata": {},
   "outputs": [
    {
     "data": {
      "text/plain": [
       "False"
      ]
     },
     "execution_count": 123,
     "metadata": {},
     "output_type": "execute_result"
    }
   ],
   "source": [
    "s.startswith('a')"
   ]
  },
  {
   "cell_type": "code",
   "execution_count": 130,
   "id": "932a3a10",
   "metadata": {},
   "outputs": [
    {
     "data": {
      "text/plain": [
       "b'I am Gotham'"
      ]
     },
     "execution_count": 130,
     "metadata": {},
     "output_type": "execute_result"
    }
   ],
   "source": [
    "s.encode()"
   ]
  },
  {
   "cell_type": "code",
   "execution_count": 143,
   "id": "b0e949f0",
   "metadata": {},
   "outputs": [],
   "source": [
    "s2= 'a*an:1'"
   ]
  },
  {
   "cell_type": "code",
   "execution_count": 145,
   "id": "36fc698d",
   "metadata": {},
   "outputs": [
    {
     "data": {
      "text/plain": [
       "['', '*', 'n:1']"
      ]
     },
     "execution_count": 145,
     "metadata": {},
     "output_type": "execute_result"
    }
   ],
   "source": [
    "s2.split('a')"
   ]
  },
  {
   "cell_type": "code",
   "execution_count": 146,
   "id": "a6f3099a",
   "metadata": {},
   "outputs": [
    {
     "data": {
      "text/plain": [
       "'wedmonfrituesthurs'"
      ]
     },
     "execution_count": 146,
     "metadata": {},
     "output_type": "execute_result"
    }
   ],
   "source": [
    "''.join(weekdays)"
   ]
  },
  {
   "cell_type": "code",
   "execution_count": 147,
   "id": "12ff29e5",
   "metadata": {},
   "outputs": [],
   "source": [
    "s3 = 'The meaning of life is'\n",
    "s4 = '42'"
   ]
  },
  {
   "cell_type": "code",
   "execution_count": 150,
   "id": "897506ca",
   "metadata": {},
   "outputs": [
    {
     "data": {
      "text/plain": [
       "'The meaning of life is 42'"
      ]
     },
     "execution_count": 150,
     "metadata": {},
     "output_type": "execute_result"
    }
   ],
   "source": [
    "s3 + ' '+ s4"
   ]
  },
  {
   "cell_type": "code",
   "execution_count": 151,
   "id": "8fe85eaa",
   "metadata": {},
   "outputs": [
    {
     "data": {
      "text/plain": [
       "'rainings cats and 10'"
      ]
     },
     "execution_count": 151,
     "metadata": {},
     "output_type": "execute_result"
    }
   ],
   "source": [
    "'rainings {} and {}'.format('cats',10)"
   ]
  },
  {
   "cell_type": "code",
   "execution_count": 152,
   "id": "7eb52524",
   "metadata": {},
   "outputs": [
    {
     "data": {
      "text/plain": [
       "'raining dogs and cats'"
      ]
     },
     "execution_count": 152,
     "metadata": {},
     "output_type": "execute_result"
    }
   ],
   "source": [
    "'raining {arg1} and {arg2}'.format(arg2='cats',arg1='dogs')"
   ]
  },
  {
   "cell_type": "code",
   "execution_count": 154,
   "id": "4d14522a",
   "metadata": {},
   "outputs": [
    {
     "data": {
      "text/plain": [
       "'pi is 3.14'"
      ]
     },
     "execution_count": 154,
     "metadata": {},
     "output_type": "execute_result"
    }
   ],
   "source": [
    "'pi is {:.2f}'.format(3.14159)"
   ]
  },
  {
   "cell_type": "code",
   "execution_count": null,
   "id": "8d932bae",
   "metadata": {},
   "outputs": [],
   "source": []
  }
 ],
 "metadata": {
  "kernelspec": {
   "display_name": "Python 3",
   "language": "python",
   "name": "python3"
  },
  "language_info": {
   "codemirror_mode": {
    "name": "ipython",
    "version": 3
   },
   "file_extension": ".py",
   "mimetype": "text/x-python",
   "name": "python",
   "nbconvert_exporter": "python",
   "pygments_lexer": "ipython3",
   "version": "3.8.8"
  }
 },
 "nbformat": 4,
 "nbformat_minor": 5
}
